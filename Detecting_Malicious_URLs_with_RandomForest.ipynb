{
  "nbformat": 4,
  "nbformat_minor": 0,
  "metadata": {
    "colab": {
      "provenance": [],
      "authorship_tag": "ABX9TyP6EiiRndOzCxI2XLsKFgZE",
      "include_colab_link": true
    },
    "kernelspec": {
      "name": "python3",
      "display_name": "Python 3"
    },
    "language_info": {
      "name": "python"
    }
  },
  "cells": [
    {
      "cell_type": "markdown",
      "metadata": {
        "id": "view-in-github",
        "colab_type": "text"
      },
      "source": [
        "<a href=\"https://colab.research.google.com/github/gopithecheetah/MyServices/blob/main/Detecting_Malicious_URLs_with_RandomForest.ipynb\" target=\"_parent\"><img src=\"https://colab.research.google.com/assets/colab-badge.svg\" alt=\"Open In Colab\"/></a>"
      ]
    },
    {
      "cell_type": "code",
      "execution_count": null,
      "metadata": {
        "id": "98SMttGB70i5"
      },
      "outputs": [],
      "source": []
    },
    {
      "cell_type": "markdown",
      "source": [
        "# 🔐 Hands-on Lab: Detecting Malicious URLs with Machine Learning\n",
        "Welcome to this practical lab on **Machine Learning for Threat Detection**.  \n",
        "\n",
        "In this exercise, we’ll train a **RandomForest model** to classify URLs as either *malicious* or *benign*.  \n",
        "\n",
        "**Learning Goals:**\n",
        "- Extract useful features from URLs  \n",
        "- Train a RandomForest classifier  \n",
        "- Evaluate performance with metrics and confusion matrix  \n",
        "---\n"
      ],
      "metadata": {
        "id": "BsHG1M6576NY"
      }
    },
    {
      "cell_type": "code",
      "source": [
        "# 📌 Step 1: Install required libraries (if not already installed)\n",
        "!pip install pandas scikit-learn matplotlib seaborn\n"
      ],
      "metadata": {
        "id": "38fdE1AQ7-u5"
      },
      "execution_count": null,
      "outputs": []
    },
    {
      "cell_type": "code",
      "source": [
        "# 📌 Step 2: Import libraries\n",
        "import pandas as pd\n",
        "import numpy as np\n",
        "from sklearn.model_selection import train_test_split\n",
        "from sklearn.ensemble import RandomForestClassifier\n",
        "from sklearn.metrics import accuracy_score, classification_report, confusion_matrix\n",
        "import seaborn as sns\n",
        "import matplotlib.pyplot as plt\n"
      ],
      "metadata": {
        "id": "evWrKlU58CzY"
      },
      "execution_count": null,
      "outputs": []
    },
    {
      "cell_type": "markdown",
      "source": [
        "## 📂 Step 3: Load Dataset\n",
        "We will use an open dataset of **malicious and benign URLs**.  \n",
        "\n",
        "For this lab, you can download the dataset from Kaggle:  \n",
        "👉 [Malicious URLs Dataset](https://www.kaggle.com/datasets/sid321axn/malicious-urls-dataset)  \n",
        "\n",
        "Upload the file `malicious_urls.csv` to Colab.\n"
      ],
      "metadata": {
        "id": "XvWUp6ZX8Gkn"
      }
    },
    {
      "cell_type": "code",
      "source": [
        "# 📌 Step 3: Load dataset\n",
        "from google.colab import files\n",
        "uploaded = files.upload()\n",
        "\n",
        "df = pd.read_csv(\"malicious_urls.csv\")\n",
        "df.head()\n"
      ],
      "metadata": {
        "id": "zu6J5f618LGI"
      },
      "execution_count": null,
      "outputs": []
    },
    {
      "cell_type": "markdown",
      "source": [
        "## ⚙️ Step 4: Feature Engineering\n",
        "We’ll extract some simple features from each URL:\n",
        "- **Length of the URL**  \n",
        "- **Number of digits**  \n",
        "- **Number of special characters (@, ?, -, =, etc.)**  \n",
        "- **Whether it contains HTTPS**  \n",
        "- **Whether it contains an IP address**  \n"
      ],
      "metadata": {
        "id": "85xfKHM58RaY"
      }
    },
    {
      "cell_type": "code",
      "source": [
        "def extract_features(url):\n",
        "    return {\n",
        "        \"url_length\": len(url),\n",
        "        \"num_digits\": sum(c.isdigit() for c in url),\n",
        "        \"num_special\": sum(c in ['@', '?', '-', '=', '.', '#', '%'] for c in url),\n",
        "        \"has_https\": 1 if \"https\" in url else 0,\n",
        "        \"has_ip\": 1 if any(char.isdigit() for char in url.split('/')[2]) else 0,\n",
        "    }\n",
        "\n",
        "features = df['url'].apply(lambda x: pd.Series(extract_features(x)))\n",
        "X = features\n",
        "y = df['label'].map(lambda x: 1 if x == \"malicious\" else 0)  # 1 = malicious, 0 = benign\n",
        "\n",
        "X.head()\n"
      ],
      "metadata": {
        "id": "xsZPfF738UBw"
      },
      "execution_count": null,
      "outputs": []
    },
    {
      "cell_type": "markdown",
      "source": [
        "## 🏋️ Step 5: Train/Test Split\n",
        "We’ll split the dataset into **70% training** and **30% testing**.\n"
      ],
      "metadata": {
        "id": "v80U1Iv18WaZ"
      }
    },
    {
      "cell_type": "code",
      "source": [
        "X_train, X_test, y_train, y_test = train_test_split(\n",
        "    X, y, test_size=0.3, random_state=42\n",
        ")\n"
      ],
      "metadata": {
        "id": "Puj5XdJn8ZRh"
      },
      "execution_count": null,
      "outputs": []
    },
    {
      "cell_type": "markdown",
      "source": [
        "## 🌲 Step 6: Train RandomForest Model\n",
        "RandomForest is a powerful baseline for classification tasks in security.\n"
      ],
      "metadata": {
        "id": "zJZhV3Lb8blf"
      }
    },
    {
      "cell_type": "code",
      "source": [
        "model = RandomForestClassifier(n_estimators=100, random_state=42)\n",
        "model.fit(X_train, y_train)\n"
      ],
      "metadata": {
        "id": "rEdKV-I78eOP"
      },
      "execution_count": null,
      "outputs": []
    },
    {
      "cell_type": "markdown",
      "source": [
        "## 📊 Step 7: Evaluate Model\n",
        "We will check **accuracy**, **precision**, **recall**, and **F1-score**.\n"
      ],
      "metadata": {
        "id": "wj5T6GEN8g2J"
      }
    },
    {
      "cell_type": "code",
      "source": [
        "y_pred = model.predict(X_test)\n",
        "\n",
        "print(\"✅ Accuracy:\", accuracy_score(y_test, y_pred))\n",
        "print(\"\\n📋 Classification Report:\\n\", classification_report(y_test, y_pred))\n"
      ],
      "metadata": {
        "id": "--4KJRiV8kGJ"
      },
      "execution_count": null,
      "outputs": []
    },
    {
      "cell_type": "markdown",
      "source": [
        "## 🔎 Step 8: Confusion Matrix\n",
        "This shows how many malicious URLs were correctly detected vs. misclassified.\n"
      ],
      "metadata": {
        "id": "3rSh2COP8oSP"
      }
    },
    {
      "cell_type": "code",
      "source": [
        "cm = confusion_matrix(y_test, y_pred)\n",
        "sns.heatmap(cm, annot=True, fmt=\"d\", cmap=\"Blues\",\n",
        "            xticklabels=[\"Benign\", \"Malicious\"],\n",
        "            yticklabels=[\"Benign\", \"Malicious\"])\n",
        "plt.xlabel(\"Predicted\")\n",
        "plt.ylabel(\"Actual\")\n",
        "plt.show()\n"
      ],
      "metadata": {
        "id": "0Uo-m5Pd8pu4"
      },
      "execution_count": null,
      "outputs": []
    },
    {
      "cell_type": "markdown",
      "source": [
        "# 🎯 Conclusion\n",
        "- We successfully trained a **RandomForest model** to classify URLs.  \n",
        "- Even with simple features, ML can detect malicious URLs effectively.  \n",
        "- In real-world scenarios, we would add more advanced features (domain age, WHOIS data, entropy, etc.).  \n",
        "\n",
        "🚀 Great job completing your first **AI for Cybersecurity** hands-on lab!\n"
      ],
      "metadata": {
        "id": "i3EPctO78uJY"
      }
    }
  ]
}